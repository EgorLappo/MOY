{
 "cells": [
  {
   "cell_type": "markdown",
   "metadata": {},
   "source": [
    "# Alexander Invariants for MOY-graphs\n",
    "----------\n",
    "### by Egor Alimpiev"
   ]
  },
  {
   "cell_type": "markdown",
   "metadata": {},
   "source": [
    "## Definitions"
   ]
  },
  {
   "cell_type": "code",
   "execution_count": 4,
   "metadata": {},
   "outputs": [],
   "source": [
    "class X():\n",
    "    \n",
    "    def __init__(self, elist):\n",
    "        # read in a crossing as a list of 4 edges\n",
    "        assert elist[0][1] == elist[2][1] and elist[1][1] == elist[3][1]\n",
    "        self.crossing = list(elist)\n",
    "    \n",
    "    @property\n",
    "    def i(self):\n",
    "        return self.crossing[0]\n",
    "    \n",
    "    @property\n",
    "    def j(self):\n",
    "        return self.crossing[1]\n",
    "    \n",
    "    @property\n",
    "    def k(self):\n",
    "        return self.crossing[2]\n",
    "    \n",
    "    @property\n",
    "    def l(self):\n",
    "        return self.crossing[3]\n",
    "    \n",
    "    @property\n",
    "    def type(self):\n",
    "        return 'x'\n",
    "    \n",
    "    @property\n",
    "    def seg_ids(self):\n",
    "        return [s[0] for s in self.crossing]\n",
    "    \n",
    "    \n",
    "    @property\n",
    "    def sign(self):\n",
    "        if self.crossing[1][0] - self.crossing[3][0] == 1 or self.crossing[3][0] - self.crossing[1][0] > 1:\n",
    "            return 1\n",
    "        elif self.crossing[3][0] - self.crossing[1][0] == 1 or self.crossing[1][0] - self.crossing[3][0] > 1:\n",
    "            return -1\n",
    "        \n",
    "    def __repr__(self):\n",
    "        return 'Crossing '+str([i[0] for i in self.crossing])"
   ]
  },
  {
   "cell_type": "code",
   "execution_count": 5,
   "metadata": {},
   "outputs": [],
   "source": [
    "class V():\n",
    "    \n",
    "    def __init__(self, inc, out):\n",
    "        self.incoming_edges = inc\n",
    "        self.outgoing_edges = out\n",
    "        self.inc_len = len(inc)\n",
    "        self.out_len = len(out)\n",
    "        \n",
    "    @property\n",
    "    def incoming(self):\n",
    "        return self.incoming_edges\n",
    "    \n",
    "    @property\n",
    "    def outgoing(self):\n",
    "        return self.outgoing_edges\n",
    "    \n",
    "    @property\n",
    "    def n_incoming(self):\n",
    "        return len(self.incoming_edges)\n",
    "    \n",
    "    @property\n",
    "    def n_outgoing(self):\n",
    "        return len(self.outgoing_edges)\n",
    "    \n",
    "    @property\n",
    "    def in_seg_ids(self):\n",
    "        return [s[0] for s in self.incoming_edges]\n",
    "    \n",
    "    @property\n",
    "    def out_seg_ids(self):\n",
    "        return [s[0] for s in self.outgoing_edges]\n",
    "    \n",
    "    @property\n",
    "    def type(self):\n",
    "        return 'v'\n",
    "    \n",
    "    def __repr__(self):\n",
    "        return 'Vertex with ' + str([i[0] for i in self.incoming_edges]) \\\n",
    "             + ' incoming and '+ str([i[0] for i in self.outgoing_edges]) + ' outgoing.'"
   ]
  },
  {
   "cell_type": "code",
   "execution_count": 6,
   "metadata": {},
   "outputs": [],
   "source": [
    "class MOY():\n",
    "    def __init__(self, xvs, ):\n",
    "        self.t = var('t')\n",
    "        self.abs_delta = 0\n",
    "        \n",
    "        # store the initial list of crossings and vertices\n",
    "        self.xvs = xvs  \n",
    "        \n",
    "        #separate it into crossings and vertices\n",
    "        self.xs = [i for i in xvs if i.type == 'x']\n",
    "        self.vs = [i for i in xvs if i.type == 'v']\n",
    "        \n",
    "        # we get segments as inputs, so we want to go from segments to actual edges and vice versa\n",
    "        max_seg_id = -1\n",
    "        for x in self.xs:\n",
    "            max_seg_id = max(max_seg_id, max(x.seg_ids))\n",
    "        for v in self.vs:\n",
    "            max_seg_id = max(max_seg_id, max(v.in_seg_ids), max(v.out_seg_ids))\n",
    "        self.n_seg = max_seg_id + 1\n",
    "        \n",
    "        # this is a standard union-find implementation to find the maps from segments to edges and back\n",
    "        self.segment_parents = [i for i in range(self.n_seg)]\n",
    "        \n",
    "        for x in self.xs:\n",
    "            self._union(self.segment_parents, x.i[0], x.k[0])\n",
    "            self._union(self.segment_parents, x.j[0], x.l[0])\n",
    "        \n",
    "        # this list gives an (arbitrary) index of an edge for each segment\n",
    "        self.segment_parents = [self._find(self.segment_parents, i) for i in range(self.n_seg)]\n",
    "        \n",
    "        # self.edges stores the indices of segments that represent edges, as chosed by union-find\n",
    "        self.n_edges = len(set(self.segment_parents))\n",
    "        self.edges = list(set(self.segment_parents))\n",
    "        \n",
    "        self.edge_to_seg = {i:[j for j in range(self.n_seg) if self._find(self.segment_parents, j) == i] for i in self.edges}\n",
    "        self.seg_to_edge = self.segment_parents\n",
    "        \n",
    "        \n",
    "        # this is a straightforward way to record a color of each segment\n",
    "        self.seg_to_col = {}\n",
    "        for x in self.xs:\n",
    "            for s in x.crossing:\n",
    "                if s[0] not in self.seg_to_col:\n",
    "                    self.seg_to_col[s[0]] = s[1]\n",
    "        \n",
    "        for v in self.vs:\n",
    "            for s in v.incoming:\n",
    "                if s[0] not in self.seg_to_col:\n",
    "                    self.seg_to_col[s[0]] = s[1]\n",
    "            for s in v.outgoing:\n",
    "                if s[0] not in self.seg_to_col:\n",
    "                    self.seg_to_col[s[0]] = s[1]\n",
    "        \n",
    "        # in case we ever need this, we also record a color for each edge in a separate list\n",
    "        self.edge_to_col = {e:self.seg_to_col[self.edge_to_seg[e][0]] for e in self.edges}\n",
    "                    \n",
    "        # |Cr(D)| in the paper\n",
    "        self.n_crossings = len(self.xs) + sum([v.n_incoming for v in self.vs])\n",
    "        \n",
    "        # under the assumption of a connected graph diagram, we get |Re(D)| as follows\n",
    "        self.n_regions = self.n_crossings + 2\n",
    "        \n",
    "        # now, we need to somehow store which segments are adjacent to which regions\n",
    "        # so, we first have 2*n_segments 'candidate regions' -- on the left and right of each segment\n",
    "        # then, for each crossing we unite all we can:\n",
    "        # for example, in positive X(i,j,k,l) we unite \n",
    "        #    - 'right of i' and 'right of j'\n",
    "        #    - 'left of j'  and 'right of k'\n",
    "        #    - 'left of k'  and 'left of l'\n",
    "        #    - 'right of l' and 'left of i'\n",
    "        # in negative X(i,j,k,l) we unite \n",
    "        #    - 'right of i' and 'left of j'\n",
    "        #    - 'right of j' and 'right of k'\n",
    "        #    - 'left of k'  and 'right of l'\n",
    "        #    - 'left of l'  and 'left of i'\n",
    "        \n",
    "        # for each vertex, we first do not want to introduce the circle regions\n",
    "        # we take care about them later, since we would know which other two regions are adjacent to them!\n",
    "        # so, we just unite left of first incoming with left of first outgoing, etc.\n",
    "        \n",
    "        reg_c = [i for i in range(2*self.n_seg)]\n",
    "        for x in self.xs:\n",
    "            if x.sign == 1:\n",
    "                # 2*x.i -- left; 2*x.i + 1 -- right\n",
    "                self._union(reg_c, 2*x.i[0] + 1, 2*x.j[0] + 1)\n",
    "                self._union(reg_c, 2*x.j[0],     2*x.k[0] + 1)\n",
    "                self._union(reg_c, 2*x.k[0],     2*x.l[0])\n",
    "                self._union(reg_c, 2*x.l[0] + 1, 2*x.i[0])\n",
    "            elif x.sign == -1:\n",
    "                self._union(reg_c, 2*x.i[0] + 1, 2*x.j[0])\n",
    "                self._union(reg_c, 2*x.j[0] + 1, 2*x.k[0] + 1)\n",
    "                self._union(reg_c, 2*x.k[0],     2*x.l[0] + 1)\n",
    "                self._union(reg_c, 2*x.l[0],     2*x.i[0])\n",
    "            else: \n",
    "                print('something is really wrong!')\n",
    "                \n",
    "        for v in self.vs:\n",
    "            self._union(reg_c, 2*v.incoming[0][0], 2*v.outgoing[-1][0])\n",
    "            self._union(reg_c, 2*v.incoming[-1][0]+1, 2*v.outgoing[0][0]+1)\n",
    "            if v.n_incoming > 1:\n",
    "                for i in range(v.n_incoming - 1):\n",
    "                    self._union(reg_c, 2*v.incoming[i][0]+1, 2*v.incoming[i+1][0])\n",
    "            if v.n_outgoing > 1:\n",
    "                for i in range(v.n_outgoing - 1):\n",
    "                    self._union(reg_c, 2*v.outgoing[i][0], 2*v.outgoing[i+1][0]+ 1)\n",
    "                    \n",
    "        self.reg_parents = [self._find(reg_c, i) for i in range(2*self.n_seg)]\n",
    "        \n",
    "        # seg to region in the form (r_left, r_right), i. e. for each segment we record \n",
    "        # a region on the left and on the right\n",
    "        self.seg_to_reg = {i:[self.reg_parents[2*i], self.reg_parents[2*i+1]] for i in range(self.n_seg)}\n",
    "        \n",
    "        # this list stores representatives of noncircular regions as with edges above\n",
    "        self.n_noncirc_regions = len(set(self.reg_parents))\n",
    "        self.noncirc_regions = list(set(self.reg_parents))\n",
    "        \n",
    "        # for each region we store the segments that bound it\n",
    "        self.reg_to_seg = {i:[j//2 for j, r in enumerate(self.reg_parents) if r == i] for i in self.noncirc_regions}\n",
    "        \n",
    "        # for each region we store the crossings and vertices adjacent to it\n",
    "        # we encode it by putting a tuple: an object itself plus some additional info.\n",
    "        # for crossings:  position of a region\n",
    "        # for vertices: whether the region is adjacent to incoming edges in case we need it\n",
    "        self.reg_to_xvs = {i:[] for i in self.noncirc_regions}\n",
    "        for x in self.xs:\n",
    "            if x.sign == 1:\n",
    "                self.reg_to_xvs[self.seg_to_reg[x.i[0]][0]].append((x,'S'))\n",
    "                self.reg_to_xvs[self.seg_to_reg[x.i[0]][1]].append((x,'E'))\n",
    "                self.reg_to_xvs[self.seg_to_reg[x.k[0]][0]].append((x,'W'))\n",
    "                self.reg_to_xvs[self.seg_to_reg[x.k[0]][1]].append((x,'N'))\n",
    "            elif x.sign == -1:\n",
    "                self.reg_to_xvs[self.seg_to_reg[x.i[0]][0]].append((x,'W'))\n",
    "                self.reg_to_xvs[self.seg_to_reg[x.i[0]][1]].append((x,'S'))\n",
    "                self.reg_to_xvs[self.seg_to_reg[x.k[0]][0]].append((x,'N'))\n",
    "                self.reg_to_xvs[self.seg_to_reg[x.k[0]][1]].append((x,'E'))\n",
    "        for  v in self.vs:\n",
    "            for s, _ in v.incoming:\n",
    "                self.reg_to_xvs[self.seg_to_reg[s][0]].append((v,'inc'))\n",
    "            self.reg_to_xvs[self.seg_to_reg[v.incoming[-1][0]][1]].append((v,'inc'))\n",
    "            \n",
    "            if len(v.outgoing) > 1:\n",
    "                for i in range(len(v.outgoing)-1):\n",
    "                    s, c = v.outgoing[i]\n",
    "                    self.reg_to_xvs[self.seg_to_reg[s][0]].append((v,'not inc'))\n",
    "        \n",
    "        self.A = self.get_alexander_matrix()\n",
    "        \n",
    "    # just a check\n",
    "    def is_MOY(self):\n",
    "        return all([sum([c for s, c in v.outgoing]) == sum([c for s, c in v.outgoing]) for v in self.vs])\n",
    "    \n",
    "    def get_alexander_matrix(self):\n",
    "        # get the dimensions of a matrix\n",
    "        nrows = self.n_crossings\n",
    "        ncols = self.n_regions\n",
    "        \n",
    "        # use sage to define a symbolic matrix of zeros\n",
    "        A = matrix(SR, nrows, ncols)\n",
    "        \n",
    "        # first we iterate over the crossings, filling out all of the related entries of the matrix\n",
    "        # (it is more convenient to make the outer loop go over regions)\n",
    "        for j, (reg, adj_xvs) in enumerate(self.reg_to_xvs.items()):\n",
    "            # this is a helper array to check if we have an adjacency\n",
    "            adj_xvs_elems_only = [e[0] for e in adj_xvs]\n",
    "            for i, x in enumerate(self.xs):\n",
    "                if x in adj_xvs_elems_only:\n",
    "                    contrib = 0\n",
    "                    # this covers the possibility of the same crossing being present multiple times \n",
    "                    # for the same region \n",
    "                    x_present = [e for e in adj_xvs if e[0] == x]\n",
    "                    for x, pos in x_present:\n",
    "                        x_type = '+' if x.sign == 1 else '-'\n",
    "                        # extract the color of a proper edge\n",
    "                        col = self.seg_to_col[x.j[0]]\n",
    "                        contrib += self.m_Cp(x_type, pos)*self.A_Cp(x_type, pos, col)\n",
    "                    A[i,j] += contrib\n",
    "        # ^ this way we have filled out the first len(xs) rows, corresponding to the crossings \n",
    "        # that do not arise from vertices. Next, i switch and iterate over the remaining crossings, adding contributions to each row\n",
    "    \n",
    "        # is still the row index that i will increment\n",
    "        i = len(self.xs)\n",
    "        # k serves to keep track of the circle region\n",
    "        for k, v in enumerate(self.vs):\n",
    "            # for each incoming edge we get a crossing\n",
    "            for s, col in v.incoming:\n",
    "                left_region = list(self.reg_to_xvs.keys()).index(self.seg_to_reg[s][0])\n",
    "                circ_region = k + len(self.reg_to_xvs.keys())\n",
    "                right_region = list(self.reg_to_xvs.keys()).index(self.seg_to_reg[s][1])\n",
    "\n",
    "                A[i,left_region] += self.m_Cp('circ', 'left')*self.A_Cp('circ', 'left', col)\n",
    "                A[i,circ_region] += self.m_Cp('circ', 'top')*self.A_Cp('circ', 'top', col)\n",
    "                A[i,right_region] += self.m_Cp('circ', 'right')*self.A_Cp('circ', 'right', col)\n",
    "                i += 1\n",
    "        return A\n",
    "    \n",
    "    def get_state_sum(self, delta_segment = 0, left_region_index = 0):\n",
    "        # first create a delta factor, as described in Definition 2.10\n",
    "        n = left_region_index\n",
    "        self.abs_delta = self.t**(n - self.seg_to_col[delta_segment]) - self.t**(n)  \n",
    "        \n",
    "        # now delete the two columns and compute the deretminant\n",
    "        R_u, R_v = self.seg_to_reg[delta_segment]\n",
    "        square_A = self.A[:,[i for i in range(self.n_regions) if i != R_u and i != R_v]]\n",
    "        \n",
    "\n",
    "        return square_A.det()/self.abs_delta\n",
    "    \n",
    "    def get_alexander_invariant(self, delta_segment = 0, left_region_index = 0):\n",
    "        ss = self.get_state_sum(delta_segment, left_region_index)\n",
    "        denum = (self.t**(-1/2)- self.t**(1/2))**(len(self.vs) - 1)\n",
    "        return ss/denum\n",
    "                \n",
    "    # get the m_Cp contribution of a vertex to a region\n",
    "    # given the type of vertex and the relative location of the region\n",
    "    def m_Cp(self, xv_type, pos):   \n",
    "        if xv_type == 'circ':\n",
    "            if pos == 'top':\n",
    "                return 1\n",
    "            elif pos == 'left':\n",
    "                return -1\n",
    "            elif pos == 'right':\n",
    "                return 1\n",
    "        elif xv_type == '+':\n",
    "            if pos == 'N':\n",
    "                return 1\n",
    "            elif pos == 'S':\n",
    "                return 1\n",
    "            elif pos == 'W':\n",
    "                return -1\n",
    "            elif pos == 'E':\n",
    "                return -1\n",
    "        elif xv_type == '-':\n",
    "            if pos == 'N':\n",
    "                return -1\n",
    "            elif pos == 'S':\n",
    "                return -1\n",
    "            elif pos == 'W':\n",
    "                return 1\n",
    "            elif pos == 'E':\n",
    "                return 1\n",
    "            \n",
    "    # same for the other contribution A_Cp\n",
    "    def A_Cp(self, xv_type, pos, color):\n",
    "        if xv_type == 'circ':\n",
    "            if pos == 'top':\n",
    "                return self.t**(-color/2) - self.t**(color/2)\n",
    "            elif pos == 'left':\n",
    "                return self.t**(-color/2)\n",
    "            elif pos == 'right':\n",
    "                return self.t**(color/2)\n",
    "        elif xv_type == '+':\n",
    "            if pos == 'N':\n",
    "                return self.t**(-color)\n",
    "            elif pos == 'S':\n",
    "                return 1\n",
    "            elif pos == 'W':\n",
    "                return self.t**(-color)\n",
    "            elif pos == 'E':\n",
    "                return 1\n",
    "        elif xv_type == '-':\n",
    "            if pos == 'N':\n",
    "                return self.t**(color)\n",
    "            elif pos == 'S':\n",
    "                return 1\n",
    "            elif pos == 'W':\n",
    "                return 1\n",
    "            elif pos == 'E':\n",
    "                return self.t**(color)\n",
    "        \n",
    "    def _find(self, l, seg):\n",
    "        if seg == l[seg]:\n",
    "            return seg\n",
    "        l[seg] = self._find(l, l[seg])\n",
    "        return l[seg]\n",
    "        \n",
    "    def _union(self, l, seg_i, seg_j):\n",
    "        iloc = self._find(l, seg_i)\n",
    "        jloc = self._find(l, seg_j)\n",
    "        \n",
    "        if iloc <= jloc:\n",
    "            l[jloc] = iloc\n",
    "        else:\n",
    "            l[iloc] = jloc\n",
    "        return 0"
   ]
  },
  {
   "cell_type": "markdown",
   "metadata": {},
   "source": [
    "## Usage Instructions and examples."
   ]
  },
  {
   "cell_type": "markdown",
   "metadata": {},
   "source": [
    "Here we implement the construction of the paper *\"AN ALEXANDER POLYNOMIAL FOR MOY GRAPHS\"* (https://arxiv.org/pdf/1708.09092.pdf).\n",
    "\n",
    "The usage is quite simple. \n",
    "The input is a MOY-graph, given as a list of vertices and crossings in the following way:\n",
    "\n",
    "1 - On a given graph diagram number every edge segment (separated by either a vertex or a crossing) with an integer starting with zero, *taking care to number all consecutive segments of each edge by consecutive numbers* (needed to correctly determine the sign of each crossing).\n",
    "\n",
    "2 - Each segment is defined by a tuple `(segment_number, color)`, where, of course, all segments belonging to the same edge share the same color.\n",
    "\n",
    "3 - Each crossing is defined as an object `X([i,j,k,l])` as in the usual PD-code notation for knots, where `i, j, k, l` are segments (edges) listed counterclockwise starting with lower incoming one.\n",
    "\n",
    "4 - Each vertex is defined as an object `V([i1, i2, ...], [o1, o2, ...])` where the first argument contains incoming segments (edges), *listed from leftmost to the rightmost*, and the second argument contains outgoing segments (edges), *listed from rightmost to leftmost*, so that overall we list all segments counterclockwise.\n",
    "\n",
    "5 - Finally, a graph diagram is defined as an object `MOY([x1, ..., v1, ...])` where the argument is a list of all crossings and vertices in no particular order.\n",
    "\n",
    "### Example 1\n",
    "\n",
    "The first example is a graph diagram from Figure 4 of the paper, with a particular choice of colors.\n",
    "\n",
    "![](imgs/MOY_ex_1.png)"
   ]
  },
  {
   "cell_type": "markdown",
   "metadata": {},
   "source": [
    "We record it according to the algorithm above."
   ]
  },
  {
   "cell_type": "code",
   "execution_count": 263,
   "metadata": {},
   "outputs": [],
   "source": [
    "# define the crossings and vertices\n",
    "X1 = X([ (3,1), (0,2), (4,1), (1,2) ])\n",
    "V1 = V( [ (1,2), (4,1) ], [ (2,3) ])\n",
    "V2 = V( [ (2,3) ], [ (0,2), (3,1) ])\n",
    "\n",
    "# define the graph diagram\n",
    "example= MOY([X1, V1, V2])"
   ]
  },
  {
   "cell_type": "markdown",
   "metadata": {},
   "source": [
    "`MOY.A` outputs the Alexander matrix as described in Definition 2.14 of the paper."
   ]
  },
  {
   "cell_type": "code",
   "execution_count": 264,
   "metadata": {},
   "outputs": [
    {
     "data": {
      "text/plain": [
       "\\left(\\begin{array}{rrrrrr}\n",
       "-1 & t^{2} & 1 & -t^{2} & 0 & 0 \\\\\n",
       "0 & 0 & -\\frac{1}{t} & t & -t + \\frac{1}{t} & 0 \\\\\n",
       "0 & \\sqrt{t} & 0 & -\\frac{1}{\\sqrt{t}} & -\\sqrt{t} + \\frac{1}{\\sqrt{t}} & 0 \\\\\n",
       "0 & t^{\\frac{3}{2}} & -\\frac{1}{t^{\\frac{3}{2}}} & 0 & 0 & -t^{\\frac{3}{2}} + \\frac{1}{t^{\\frac{3}{2}}}\n",
       "\\end{array}\\right)"
      ]
     },
     "execution_count": 264,
     "metadata": {},
     "output_type": "execute_result"
    }
   ],
   "source": [
    "latex(example.A)"
   ]
  },
  {
   "cell_type": "markdown",
   "metadata": {},
   "source": [
    "$$\n",
    "\\left(\\begin{array}{rrrrrr}\n",
    "-1 & t^{2} & 1 & -t^{2} & 0 & 0 \\\\\n",
    "0 & 0 & -\\frac{1}{t} & t & -t + \\frac{1}{t} & 0 \\\\\n",
    "0 & \\sqrt{t} & 0 & -\\frac{1}{\\sqrt{t}} & -\\sqrt{t} + \\frac{1}{\\sqrt{t}} & 0 \\\\\n",
    "0 & t^{\\frac{3}{2}} & -\\frac{1}{t^{\\frac{3}{2}}} & 0 & 0 & -t^{\\frac{3}{2}} + \\frac{1}{t^{\\frac{3}{2}}}\n",
    "\\end{array}\\right)\n",
    "$$"
   ]
  },
  {
   "cell_type": "markdown",
   "metadata": {},
   "source": [
    "Taking a determinant after dropping columns corresponding to two adjacent regions, we get a state sum $\\langle D, c \\rangle$."
   ]
  },
  {
   "cell_type": "code",
   "execution_count": 215,
   "metadata": {},
   "outputs": [
    {
     "data": {
      "text/plain": [
       "(t^2 - 1/t + 1/t^3 - 1)/(1/t^2 - 1)"
      ]
     },
     "execution_count": 215,
     "metadata": {},
     "output_type": "execute_result"
    }
   ],
   "source": [
    "example.get_state_sum(delta_segment = 0, left_region_index=0)"
   ]
  },
  {
   "cell_type": "code",
   "execution_count": 216,
   "metadata": {},
   "outputs": [
    {
     "data": {
      "text/plain": [
       "-(t^2 - 1/t + 1/t^3 - 1)/((sqrt(t) - 1/sqrt(t))*(1/t^2 - 1))"
      ]
     },
     "execution_count": 216,
     "metadata": {},
     "output_type": "execute_result"
    }
   ],
   "source": [
    "example.get_alexander_invariant(delta_segment = 0, left_region_index=0)"
   ]
  },
  {
   "cell_type": "code",
   "execution_count": 273,
   "metadata": {},
   "outputs": [
    {
     "data": {
      "text/plain": [
       "(t^2 + t + 1)/sqrt(t)"
      ]
     },
     "execution_count": 273,
     "metadata": {},
     "output_type": "execute_result"
    }
   ],
   "source": [
    "a_inv = example.get_alexander_invariant(delta_segment = 0, left_region_index=0)\n",
    "a_inv.full_simplify()"
   ]
  },
  {
   "cell_type": "markdown",
   "metadata": {},
   "source": [
    "### Example 2\n",
    "\n",
    "Defining a graph diagram with an arbitrary balanced coloring works as well. One only needs to take care of defining color variables as sage object.\n",
    "\n",
    "![](imgs/MOY_ex_2.png)"
   ]
  },
  {
   "cell_type": "code",
   "execution_count": 224,
   "metadata": {},
   "outputs": [],
   "source": [
    "i = var('i')\n",
    "j = var('j')\n",
    "ex_xvs2 = [ X([ (3,j), (0,i), (4,j), (1,i) ]), \n",
    "            V([ (1,i), (4,j) ], [ (2,i+j) ]), \n",
    "            V([ (2,i+j) ], [ (0,i), (3,j) ]), \n",
    "          ]\n",
    "example2 = MOY(ex_xvs2)"
   ]
  },
  {
   "cell_type": "code",
   "execution_count": 180,
   "metadata": {
    "collapsed": true
   },
   "outputs": [
    {
     "data": {
      "text/plain": [
       "\\left(\\begin{array}{rrrrrr}\n",
       "-1 & t^{i} & 1 & -t^{i} & 0 & 0 \\\\\n",
       "0 & 0 & -\\frac{1}{t^{\\frac{1}{2} \\, i}} & t^{\\frac{1}{2} \\, i} & -t^{\\frac{1}{2} \\, i} + \\frac{1}{t^{\\frac{1}{2} \\, i}} & 0 \\\\\n",
       "0 & t^{\\frac{1}{2} \\, j} & 0 & -\\frac{1}{t^{\\frac{1}{2} \\, j}} & -t^{\\frac{1}{2} \\, j} + \\frac{1}{t^{\\frac{1}{2} \\, j}} & 0 \\\\\n",
       "0 & t^{\\frac{1}{2} \\, i + \\frac{1}{2} \\, j} & -t^{-\\frac{1}{2} \\, i - \\frac{1}{2} \\, j} & 0 & 0 & -t^{\\frac{1}{2} \\, i + \\frac{1}{2} \\, j} + t^{-\\frac{1}{2} \\, i - \\frac{1}{2} \\, j}\n",
       "\\end{array}\\right)"
      ]
     },
     "execution_count": 180,
     "metadata": {},
     "output_type": "execute_result"
    }
   ],
   "source": [
    "latex(example2.A)"
   ]
  },
  {
   "cell_type": "markdown",
   "metadata": {},
   "source": [
    "This is the matrix at the bottom of page 10 of the paper, up to permutation of rows and columns.\n",
    "\n",
    "$$\n",
    "\\left(\\begin{array}{rrrrrr}\n",
    "-1 & t^{i} & 1 & -t^{i} & 0 & 0 \\\\\n",
    "0 & 0 & -t^{-\\frac{i}{2} } & t^{\\frac{i}{2} } & -t^{\\frac{i}{2} } + t^{-\\frac{i}{2} } & 0 \\\\\n",
    "0 & t^{\\frac{j}{2}  } & 0 & -t^{-\\frac{j}{2} } & -t^{\\frac{j}{2} } + t^{-\\frac{j}{2} } & 0 \\\\\n",
    "0 & t^{\\frac{i}{2}  + \\frac{j}{2}} & -t^{-\\frac{i}{2}  - \\frac{j}{2} } & 0 & 0 & -t^{\\frac{i}{2}  + \\frac{j}{2}  } + t^{-\\frac{i}{2}  - \\frac{j}{2} }\n",
    "\\end{array}\\right)\n",
    "$$\n",
    "\n",
    "So, we try to get the state sum, and compare it to the expression given in the paper."
   ]
  },
  {
   "cell_type": "code",
   "execution_count": 226,
   "metadata": {},
   "outputs": [
    {
     "data": {
      "text/plain": [
       "\\frac{t^{i} - \\frac{1}{t^{j}} + \\frac{1}{t^{i} t^{j}} - 1}{\\frac{1}{t^{i}} - 1}"
      ]
     },
     "execution_count": 226,
     "metadata": {},
     "output_type": "execute_result"
    }
   ],
   "source": [
    "ss = example2.get_state_sum(delta_segment = 0, left_region_index=0)\n",
    "latex(ss)"
   ]
  },
  {
   "cell_type": "markdown",
   "metadata": {},
   "source": [
    "$$\n",
    "\\frac{t^{i} - \\frac{1}{t^{j}} + \\frac{1}{t^{i} t^{j}} - 1}{\\frac{1}{t^{i}} - 1}\n",
    "$$"
   ]
  },
  {
   "cell_type": "code",
   "execution_count": 227,
   "metadata": {},
   "outputs": [
    {
     "data": {
      "text/plain": [
       "1"
      ]
     },
     "execution_count": 227,
     "metadata": {},
     "output_type": "execute_result"
    }
   ],
   "source": [
    "ratio = (-(t**((i+j)/2)-t**(-(i+j)/2))*t**((i-j)/2))/ss\n",
    "ratio.full_simplify()"
   ]
  },
  {
   "cell_type": "markdown",
   "metadata": {},
   "source": [
    "After simplification, we see that the expression in the paper (Example 2.13) and my result are the same."
   ]
  },
  {
   "cell_type": "code",
   "execution_count": 272,
   "metadata": {},
   "outputs": [
    {
     "data": {
      "text/plain": [
       "(t^(i + j) - 1)*t^(-j + 1/2)/(t - 1)"
      ]
     },
     "execution_count": 272,
     "metadata": {},
     "output_type": "execute_result"
    }
   ],
   "source": [
    "example2.get_alexander_invariant(delta_segment = 0, left_region_index=0).full_simplify()"
   ]
  },
  {
   "cell_type": "markdown",
   "metadata": {},
   "source": [
    "### Example 3"
   ]
  },
  {
   "cell_type": "markdown",
   "metadata": {},
   "source": [
    "Let us take a singular knot as a next example.\n",
    "\n",
    "![](imgs/MOY_ex_3.png)"
   ]
  },
  {
   "cell_type": "code",
   "execution_count": 265,
   "metadata": {},
   "outputs": [
    {
     "data": {
      "text/plain": [
       "(1/t - 1)/(t - 1)"
      ]
     },
     "execution_count": 265,
     "metadata": {},
     "output_type": "execute_result"
    }
   ],
   "source": [
    "X1 = X([(0,1),(4,1),(1,1),(3,1)])\n",
    "X2 = X([(4,1),(2,1),(5,1),(1,1)])\n",
    "V1 = V([(5,1),(2,1)],[(0,1),(3,1)])\n",
    "\n",
    "example3 = MOY([X1,X2,V1])\n",
    "\n",
    "example3.get_state_sum(delta_segment = 0, left_region_index=1) #note the value for the left region index"
   ]
  },
  {
   "cell_type": "code",
   "execution_count": 266,
   "metadata": {},
   "outputs": [
    {
     "data": {
      "text/plain": [
       "\\left(\\begin{array}{rrrrrr}\n",
       "1 & -1 & -\\frac{1}{t} & \\frac{1}{t} & 0 & 0 \\\\\n",
       "0 & -1 & -\\frac{1}{t} & 1 & \\frac{1}{t} & 0 \\\\\n",
       "0 & 0 & -\\frac{1}{\\sqrt{t}} & 0 & \\sqrt{t} & -\\sqrt{t} + \\frac{1}{\\sqrt{t}} \\\\\n",
       "0 & \\sqrt{t} & 0 & 0 & -\\frac{1}{\\sqrt{t}} & -\\sqrt{t} + \\frac{1}{\\sqrt{t}}\n",
       "\\end{array}\\right)"
      ]
     },
     "execution_count": 266,
     "metadata": {},
     "output_type": "execute_result"
    }
   ],
   "source": [
    "latex(example3.A)"
   ]
  },
  {
   "cell_type": "markdown",
   "metadata": {},
   "source": [
    "$$\n",
    "\\left(\\begin{array}{rrrrrr}\n",
    "1 & -1 & -\\frac{1}{t} & \\frac{1}{t} & 0 & 0 \\\\\n",
    "0 & -1 & -\\frac{1}{t} & 1 & \\frac{1}{t} & 0 \\\\\n",
    "0 & 0 & -\\frac{1}{\\sqrt{t}} & 0 & \\sqrt{t} & -\\sqrt{t} + \\frac{1}{\\sqrt{t}} \\\\\n",
    "0 & \\sqrt{t} & 0 & 0 & -\\frac{1}{\\sqrt{t}} & -\\sqrt{t} + \\frac{1}{\\sqrt{t}}\n",
    "\\end{array}\\right)\n",
    "$$"
   ]
  },
  {
   "cell_type": "code",
   "execution_count": 271,
   "metadata": {},
   "outputs": [
    {
     "data": {
      "text/plain": [
       "-1/t"
      ]
     },
     "execution_count": 271,
     "metadata": {},
     "output_type": "execute_result"
    }
   ],
   "source": [
    "example3.get_alexander_invariant(delta_segment = 0, left_region_index=1).full_simplify()"
   ]
  },
  {
   "cell_type": "markdown",
   "metadata": {},
   "source": [
    "### Example 4\n",
    "\n",
    "Inputing a usual trefoil knot (no vertices), we see that up to some factor in the denominator, we get the usual Alexander polynomial of a knot."
   ]
  },
  {
   "cell_type": "code",
   "execution_count": 268,
   "metadata": {},
   "outputs": [
    {
     "data": {
      "text/plain": [
       "(1/t - 1/t^2 + 1/t^3)/(t - 1)"
      ]
     },
     "execution_count": 268,
     "metadata": {},
     "output_type": "execute_result"
    }
   ],
   "source": [
    "X1 = X([(0,1),(4,1),(1,1),(3,1)])\n",
    "X2 = X([(4,1),(2,1),(5,1),(1,1)])\n",
    "X3 = X([(2,1),(0,1),(3,1),(5,1)])\n",
    "\n",
    "example4 = MOY([X1,X2,X3])\n",
    "\n",
    "example4.get_state_sum(delta_segment = 0, left_region_index=1) #note the value for the left region index"
   ]
  },
  {
   "cell_type": "code",
   "execution_count": 270,
   "metadata": {},
   "outputs": [
    {
     "data": {
      "text/plain": [
       "-(t^2 - t + 1)/t^(7/2)"
      ]
     },
     "execution_count": 270,
     "metadata": {},
     "output_type": "execute_result"
    }
   ],
   "source": [
    "example4.get_alexander_invariant(delta_segment = 0, left_region_index=1).full_simplify()"
   ]
  },
  {
   "cell_type": "markdown",
   "metadata": {},
   "source": [
    "### Example 5\n",
    "\n",
    "Next example is once again from the original paper.\n",
    "\n",
    "![](imgs/MOY_ex_4.png)"
   ]
  },
  {
   "cell_type": "code",
   "execution_count": 243,
   "metadata": {},
   "outputs": [],
   "source": [
    "i = var('i')\n",
    "j = var('j')\n",
    "\n",
    "# vertices\n",
    "V1 = V([(12,i+j)],\n",
    "       [(5,i),(0,j)])\n",
    "V2 = V([(9,i), (4,j)],\n",
    "       [(10,i+j)])\n",
    "\n",
    "X1 = X([\n",
    "    (0,j),\n",
    "    (9,i),\n",
    "    (1,j),\n",
    "    (8,i)\n",
    "])\n",
    "\n",
    "# crossings\n",
    "X2 = X([\n",
    "    (7,i),\n",
    "    (12,i+j),\n",
    "    (8,i),\n",
    "    (11,i+j)\n",
    "])\n",
    "\n",
    "X3 = X([\n",
    "    (10,i+j),\n",
    "    (2,j),\n",
    "    (11,i+j),\n",
    "    (1,j)\n",
    "])\n",
    "\n",
    "X4 = X([\n",
    "    (2,j),\n",
    "    (6,i),\n",
    "    (3,j),\n",
    "    (7,i)\n",
    "])\n",
    "\n",
    "X5 = X([\n",
    "    (5,i),\n",
    "    (3,j),\n",
    "    (6,i),\n",
    "    (4,j)\n",
    "])"
   ]
  },
  {
   "cell_type": "code",
   "execution_count": 244,
   "metadata": {},
   "outputs": [
    {
     "data": {
      "text/plain": [
       "((t^(3*i) - t^(2*i))*t^(3*j) - (t^(3*i) + 2*t^(2*i) - 2*t^i)*t^(2*j) + (2*t^(2*i) - 1)*t^j - t^i + 1)*t^(-2*i - 2*j + 1/2)/(t - 1)"
      ]
     },
     "execution_count": 244,
     "metadata": {},
     "output_type": "execute_result"
    }
   ],
   "source": [
    "example5 = MOY([V1,V2,X1,X2,X3,X4,X5])\n",
    "\n",
    "example5.get_alexander_invariant(delta_segment = 4, left_region_index=0).full_simplify() #note the value for the left region index"
   ]
  },
  {
   "cell_type": "markdown",
   "metadata": {},
   "source": [
    "This expression is too big. Try $i = j = 1$."
   ]
  },
  {
   "cell_type": "code",
   "execution_count": 245,
   "metadata": {},
   "outputs": [],
   "source": [
    "i = 1\n",
    "j = 1\n",
    "\n",
    "# vertices\n",
    "V1 = V([(12,i+j)],\n",
    "       [(5,i),(0,j)])\n",
    "V2 = V([(9,i), (4,j)],\n",
    "       [(10,i+j)])\n",
    "\n",
    "# crossings\n",
    "X1 = X([\n",
    "    (0,j),\n",
    "    (9,i),\n",
    "    (1,j),\n",
    "    (8,i)\n",
    "])\n",
    "\n",
    "X2 = X([\n",
    "    (7,i),\n",
    "    (12,i+j),\n",
    "    (8,i),\n",
    "    (11,i+j)\n",
    "])\n",
    "\n",
    "X3 = X([\n",
    "    (10,i+j),\n",
    "    (2,j),\n",
    "    (11,i+j),\n",
    "    (1,j)\n",
    "])\n",
    "\n",
    "X4 = X([\n",
    "    (2,j),\n",
    "    (6,i),\n",
    "    (3,j),\n",
    "    (7,i)\n",
    "])\n",
    "\n",
    "X5 = X([\n",
    "    (5,i),\n",
    "    (3,j),\n",
    "    (6,i),\n",
    "    (4,j)\n",
    "])"
   ]
  },
  {
   "cell_type": "code",
   "execution_count": 254,
   "metadata": {},
   "outputs": [
    {
     "data": {
      "text/plain": [
       "(t^4 - 2*t^3 - t^2 + 2*t - 1)*(t + 1)"
      ]
     },
     "execution_count": 254,
     "metadata": {},
     "output_type": "execute_result"
    }
   ],
   "source": [
    "example5 = MOY([V1,V2,X1,X2,X3,X4,X5])\n",
    "\n",
    "(example5.get_alexander_invariant(delta_segment = 4, left_region_index=0).full_simplify() \\\n",
    "                                                                     *(example5.t**(7/2))).factor()"
   ]
  },
  {
   "cell_type": "code",
   "execution_count": 262,
   "metadata": {},
   "outputs": [
    {
     "data": {
      "text/plain": [
       "-(t^4 - 2*t^3 - t^2 + 2*t - 1)/(t^6 - 2*t^5 + t^4 + 2*t^3 - t^2)"
      ]
     },
     "execution_count": 262,
     "metadata": {},
     "output_type": "execute_result"
    }
   ],
   "source": [
    "D = example5.get_alexander_invariant(delta_segment = 4, left_region_index=0)\n",
    "D_inv = D.substitute(t = example5.t**(-1))\n",
    "(D/D_inv).full_simplify() # != t^k => the graph is chiral!"
   ]
  },
  {
   "cell_type": "code",
   "execution_count": null,
   "metadata": {},
   "outputs": [],
   "source": []
  },
  {
   "cell_type": "code",
   "execution_count": null,
   "metadata": {},
   "outputs": [],
   "source": []
  },
  {
   "cell_type": "markdown",
   "metadata": {},
   "source": [
    "$$\n",
    "\\left(\\begin{array}{rrrrrrrrrr}\n",
    "1 & -1 & -\\frac{1}{t^{j}} & \\frac{1}{t^{j}} & 0 & 0 & 0 & 0 & 0 & 0 \\\\\n",
    "0 & -1 & -\\frac{1}{t^{i}} & 1 & \\frac{1}{t^{i}} & 0 & 0 & 0 & 0 & 0 \\\\\n",
    "0 & -1 & 0 & 0 & 1 & -1 & 1 & 0 & 0 & 0 \\\\\n",
    "\\frac{1}{t^{j}} & 0 & -\\frac{1}{t^{j}} & 0 & 1 & -1 & 0 & 0 & 0 & 0 \\\\\n",
    "1 & 0 & 0 & 0 & 0 & -1 & t^{i} & -t^{i} & 0 & 0 \\\\\n",
    "-t^{j} + 1 & 0 & 0 & 0 & 0 & 0 & t^{j} & -1 & 0 & 0 \\\\\n",
    "-\\frac{1}{t^{\\frac{1}{2} \\, i}} & 0 & 0 & 0 & 0 & 0 & t^{\\frac{1}{2} \\, i} & 0 & -t^{\\frac{1}{2} \\, i} + \\frac{1}{t^{\\frac{1}{2} \\, i}} & 0 \\\\\n",
    "1 & 0 & -1 & 0 & 0 & 0 & 0 & 0 & 0 & 0\n",
    "\\end{array}\\right)\n",
    "$$"
   ]
  },
  {
   "cell_type": "markdown",
   "metadata": {},
   "source": []
  }
 ],
 "metadata": {
  "kernelspec": {
   "display_name": "SageMath 9.2",
   "language": "sage",
   "name": "sagemath"
  },
  "language_info": {
   "codemirror_mode": {
    "name": "ipython",
    "version": 3
   },
   "file_extension": ".py",
   "mimetype": "text/x-python",
   "name": "python",
   "nbconvert_exporter": "python",
   "pygments_lexer": "ipython3",
   "version": "3.8.5"
  }
 },
 "nbformat": 4,
 "nbformat_minor": 2
}
