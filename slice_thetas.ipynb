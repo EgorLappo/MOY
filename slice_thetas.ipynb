{
 "cells": [
  {
   "cell_type": "code",
   "execution_count": 1,
   "metadata": {},
   "outputs": [],
   "source": [
    "!sage --preparse moy.sage\n",
    "!mv moy.sage.py moy.py\n",
    "!sage --preparse graphs.sage\n",
    "!mv graphs.sage.py graphs.py"
   ]
  },
  {
   "cell_type": "code",
   "execution_count": 2,
   "metadata": {},
   "outputs": [],
   "source": [
    "from moy import *\n",
    "from graphs import *"
   ]
  },
  {
   "cell_type": "code",
   "execution_count": 13,
   "metadata": {
    "scrolled": true
   },
   "outputs": [
    {
     "data": {
      "text/plain": [
       "(t^(i + j) - 1)*t^(-j + 1/2)/(t - 1)"
      ]
     },
     "execution_count": 13,
     "metadata": {},
     "output_type": "execute_result"
    }
   ],
   "source": [
    "planar_theta.get_alexander_invariant(delta_segment = 0, left_region_index=0).full_simplify()"
   ]
  },
  {
   "cell_type": "markdown",
   "metadata": {},
   "source": [
    "$$ \n",
    "\\frac{{\\left(t^{i + j} - 1\\right)} t^{-j + \\frac{1}{2}}}{t - 1}\n",
    "$$"
   ]
  },
  {
   "cell_type": "code",
   "execution_count": 11,
   "metadata": {},
   "outputs": [
    {
     "data": {
      "text/plain": [
       "-((t^(3*i) - t^(2*i))*t^(3*j) - (t^(3*i) + 2*t^(2*i) - 2*t^i)*t^(2*j) + (2*t^(2*i) - 1)*t^j - t^i + 1)*t^(-2*i - 2*j + 1/2)/(t - 1)"
      ]
     },
     "execution_count": 11,
     "metadata": {},
     "output_type": "execute_result"
    }
   ],
   "source": [
    "theta_5_1.get_alexander_invariant(delta_segment = 0, left_region_index=j).full_simplify()"
   ]
  },
  {
   "cell_type": "markdown",
   "metadata": {},
   "source": [
    "$$-\\frac{{\\left({\\left(t^{3 \\, i} - t^{2 \\, i}\\right)} t^{3 \\, j} - {\\left(t^{3 \\, i} + 2 \\, t^{2 \\, i} - 2 \\, t^{i}\\right)} t^{2 \\, j} + {\\left(2 \\, t^{2 \\, i} - 1\\right)} t^{j} - t^{i} + 1\\right)} t^{-2 \\, i - 2 \\, j + \\frac{1}{2}}}{t - 1}$$"
   ]
  },
  {
   "cell_type": "code",
   "execution_count": 15,
   "metadata": {},
   "outputs": [
    {
     "data": {
      "text/plain": [
       "-((2*t^(3*i) - t^(2*i))*t^(3*j) - (t^(3*i) + 2*t^(2*i) - 2*t^i)*t^(2*j) + (2*t^(2*i) - t^i - 1)*t^j - t^i + 1)*t^(-3*i - 4*j + 1/2)/(t - 1)"
      ]
     },
     "execution_count": 15,
     "metadata": {},
     "output_type": "execute_result"
    }
   ],
   "source": [
    "theta_6_1.get_alexander_invariant(delta_segment = 10, left_region_index=i+j).full_simplify()"
   ]
  },
  {
   "cell_type": "markdown",
   "metadata": {},
   "source": [
    "$$\n",
    "-\\frac{{\\left({\\left(2 \\, t^{3 \\, i} - t^{2 \\, i}\\right)} t^{3 \\, j} - {\\left(t^{3 \\, i} + 2 \\, t^{2 \\, i} - 2 \\, t^{i}\\right)} t^{2 \\, j} + {\\left(2 \\, t^{2 \\, i} - t^{i} - 1\\right)} t^{j} - t^{i} + 1\\right)} t^{-3 \\, i - 4 \\, j + \\frac{1}{2}}}{t - 1}\n",
    "$$"
   ]
  },
  {
   "cell_type": "code",
   "execution_count": 19,
   "metadata": {},
   "outputs": [
    {
     "data": {
      "text/plain": [
       "-((t^(4*i) - t^(3*i))*t^(4*j) - (t^(4*i) - t^(3*i) - t^(2*i))*t^(3*j) + (t^(3*i) - 3*t^(2*i) + t^i)*t^(2*j) + (t^(2*i) - 1)*t^j - t^i + 1)*t^(-i - j + 1/2)/(t - 1)"
      ]
     },
     "execution_count": 19,
     "metadata": {},
     "output_type": "execute_result"
    }
   ],
   "source": [
    "theta_7_1.get_alexander_invariant(delta_segment = 7, left_region_index=0).full_simplify()"
   ]
  },
  {
   "cell_type": "markdown",
   "metadata": {},
   "source": [
    "$$\n",
    "-\\frac{{\\left({\\left(t^{4 \\, i} - t^{3 \\, i}\\right)} t^{4 \\, j} - {\\left(t^{4 \\, i} - t^{3 \\, i} - t^{2 \\, i}\\right)} t^{3 \\, j} + {\\left(t^{3 \\, i} - 3 \\, t^{2 \\, i} + t^{i}\\right)} t^{2 \\, j} + {\\left(t^{2 \\, i} - 1\\right)} t^{j} - t^{i} + 1\\right)} t^{-i - j + \\frac{1}{2}}}{t - 1}\n",
    "$$"
   ]
  },
  {
   "cell_type": "code",
   "execution_count": 22,
   "metadata": {},
   "outputs": [
    {
     "data": {
      "text/plain": [
       "-((t^(3*i) - t^(2*i))*t^(4*j) + (t^(4*i) - 3*t^(3*i) - t^(2*i) + 2*t^i)*t^(3*j) - (t^(4*i) + t^(3*i) - 5*t^(2*i) + t^i + 1)*t^(2*j) + (2*t^(3*i) - t^(2*i) - 2*t^i + 1)*t^j - t^(2*i) + t^i)*t^(-3*i - 3*j + 1/2)/(t - 1)"
      ]
     },
     "execution_count": 22,
     "metadata": {},
     "output_type": "execute_result"
    }
   ],
   "source": [
    "theta_7_2.get_alexander_invariant(delta_segment = 16, left_region_index=0).full_simplify()"
   ]
  },
  {
   "cell_type": "markdown",
   "metadata": {},
   "source": [
    "$$\n",
    "-\\frac{{\\left({\\left(t^{3 \\, i} - t^{2 \\, i}\\right)} t^{4 \\, j} + {\\left(t^{4 \\, i} - 3 \\, t^{3 \\, i} - t^{2 \\, i} + 2 \\, t^{i}\\right)} t^{3 \\, j} - {\\left(t^{4 \\, i} + t^{3 \\, i} - 5 \\, t^{2 \\, i} + t^{i} + 1\\right)} t^{2 \\, j} + {\\left(2 \\, t^{3 \\, i} - t^{2 \\, i} - 2 \\, t^{i} + 1\\right)} t^{j} - t^{2 \\, i} + t^{i}\\right)} t^{-3 \\, i - 3 \\, j + \\frac{1}{2}}}{t - 1}\n",
    "$$"
   ]
  },
  {
   "cell_type": "code",
   "execution_count": 28,
   "metadata": {},
   "outputs": [
    {
     "data": {
      "text/plain": [
       "0"
      ]
     },
     "execution_count": 28,
     "metadata": {},
     "output_type": "execute_result"
    }
   ],
   "source": [
    "theta_7_3.get_alexander_invariant(delta_segment = 8, left_region_index=0).full_simplify()"
   ]
  },
  {
   "cell_type": "code",
   "execution_count": 29,
   "metadata": {},
   "outputs": [
    {
     "data": {
      "text/plain": [
       "0"
      ]
     },
     "execution_count": 29,
     "metadata": {},
     "output_type": "execute_result"
    }
   ],
   "source": [
    "theta_7_4.get_alexander_invariant(delta_segment = 8, left_region_index=0).full_simplify()"
   ]
  },
  {
   "cell_type": "code",
   "execution_count": null,
   "metadata": {},
   "outputs": [],
   "source": []
  }
 ],
 "metadata": {
  "kernelspec": {
   "display_name": "SageMath 9.2",
   "language": "sage",
   "name": "sagemath"
  },
  "language_info": {
   "codemirror_mode": {
    "name": "ipython",
    "version": 3
   },
   "file_extension": ".py",
   "mimetype": "text/x-python",
   "name": "python",
   "nbconvert_exporter": "python",
   "pygments_lexer": "ipython3",
   "version": "3.8.5"
  }
 },
 "nbformat": 4,
 "nbformat_minor": 4
}
