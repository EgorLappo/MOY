{
 "cells": [
  {
   "cell_type": "code",
   "execution_count": 1,
   "metadata": {},
   "outputs": [],
   "source": [
    "from moy import *"
   ]
  },
  {
   "cell_type": "markdown",
   "metadata": {},
   "source": [
    "First we will consider a couple of handcuff spatial graphs, two of which we know to be \"slice\" and one not slice. \n",
    "\n",
    "Begin with this one, with the edges relabeled to be zero-indexed:\n",
    "\n",
    "<img src=\"imgs/hcuff1.png\" alt=\"Drawing\" style=\"width: 500px;\"/>"
   ]
  },
  {
   "cell_type": "code",
   "execution_count": 3,
   "metadata": {},
   "outputs": [],
   "source": [
    "i = var('i')\n",
    "j = var('j')\n",
    "\n",
    "# crossings\n",
    "X1 = X([(0,i),(10,j),(1,i),(9,j)])\n",
    "X2 = X([(10,j),(2,i),(11,j),(1,i)])\n",
    "X3 = X([(2,i),(6,0),(3,i),(7,0)])\n",
    "X4 = X([(7,0),(12,j),(8,0),(11,j)])\n",
    "X5 = X([(12,j),(3,i),(13,j),(4,i)])\n",
    "X6 = X([(4,i),(13,j),(5,i),(14,j)])\n",
    "\n",
    "#vertices\n",
    "V1 = V([(5,i)], [(6,0), (0,i)])\n",
    "V2 = V([(9,0)], [(15,j), (10,j)])"
   ]
  },
  {
   "cell_type": "code",
   "execution_count": null,
   "metadata": {},
   "outputs": [],
   "source": [
    "hc1 = MOY([X1, X2, X3, X4, X5, X6, V1, V2])"
   ]
  }
 ],
 "metadata": {
  "kernelspec": {
   "display_name": "SageMath 9.2",
   "language": "sage",
   "name": "sagemath"
  },
  "language_info": {
   "codemirror_mode": {
    "name": "ipython",
    "version": 3
   },
   "file_extension": ".py",
   "mimetype": "text/x-python",
   "name": "python",
   "nbconvert_exporter": "python",
   "pygments_lexer": "ipython3",
   "version": "3.8.5"
  }
 },
 "nbformat": 4,
 "nbformat_minor": 4
}
