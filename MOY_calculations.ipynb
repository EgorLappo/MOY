{
 "cells": [
  {
   "cell_type": "code",
   "execution_count": 1,
   "metadata": {},
   "outputs": [],
   "source": [
    "!sage --preparse moy.sage\n",
    "!mv moy.sage.py moy.py"
   ]
  },
  {
   "cell_type": "code",
   "execution_count": 2,
   "metadata": {},
   "outputs": [],
   "source": [
    "def brak(k, t):\n",
    "    return (t**(k/2) - t**(-k/2))"
   ]
  },
  {
   "cell_type": "code",
   "execution_count": 3,
   "metadata": {},
   "outputs": [],
   "source": [
    "from moy import *"
   ]
  },
  {
   "cell_type": "markdown",
   "metadata": {},
   "source": [
    "## Various handcuffs\n",
    "\n",
    "First we will consider a couple of handcuff spatial graphs, two of which we know to be \"slice\" and one not slice. \n",
    "\n",
    "Begin with this one, with the edges relabeled to be zero-indexed:\n",
    "\n",
    "<img src=\"imgs/hcuff1.png\" alt=\"Drawing\" style=\"width: 500px;\"/>"
   ]
  },
  {
   "cell_type": "code",
   "execution_count": 8,
   "metadata": {},
   "outputs": [
    {
     "data": {
      "text/plain": [
       "0"
      ]
     },
     "execution_count": 8,
     "metadata": {},
     "output_type": "execute_result"
    }
   ],
   "source": [
    "i = var('i')\n",
    "j = var('j')\n",
    "\n",
    "# crossings\n",
    "X1 = X([(0,i),(10,j),(1,i),(9,j)])\n",
    "X2 = X([(10,j),(2,i),(11,j),(1,i)])\n",
    "X3 = X([(2,i),(6,0),(3,i),(7,0)])\n",
    "X4 = X([(7,0),(12,j),(8,0),(11,j)])\n",
    "X5 = X([(12,j),(3,i),(13,j),(4,i)])\n",
    "X6 = X([(4,i),(13,j),(5,i),(14,j)])\n",
    "\n",
    "#vertices\n",
    "V1 = V([(5,i)], [(6,0), (0,i)])\n",
    "V2 = V([(8,0), (14,j)], [(9,j)])\n",
    "\n",
    "hc1 = MOY([X1, X2, X3, X4, X5, X6, V1, V2])\n",
    "hc1.get_state_sum(delta_segment = 0, left_region_index=0)"
   ]
  },
  {
   "cell_type": "code",
   "execution_count": 11,
   "metadata": {},
   "outputs": [
    {
     "data": {
      "text/plain": [
       "{0: [(Crossing [0, 10, 1, 9], 'S'),\n",
       "  (Crossing [4, 13, 5, 14], 'N'),\n",
       "  (Vertex with [5] incoming and [6, 0] outgoing., 'inc'),\n",
       "  (Vertex with [8, 14] incoming and [9] outgoing., 'inc')],\n",
       " 1: [(Crossing [0, 10, 1, 9], 'E'),\n",
       "  (Crossing [10, 2, 11, 1], 'E'),\n",
       "  (Crossing [2, 6, 3, 7], 'S'),\n",
       "  (Vertex with [5] incoming and [6, 0] outgoing., 'not inc')],\n",
       " 2: [(Crossing [0, 10, 1, 9], 'W'),\n",
       "  (Crossing [10, 2, 11, 1], 'W'),\n",
       "  (Crossing [7, 12, 8, 11], 'W'),\n",
       "  (Vertex with [8, 14] incoming and [9] outgoing., 'inc')],\n",
       " 3: [(Crossing [0, 10, 1, 9], 'N'), (Crossing [10, 2, 11, 1], 'S')],\n",
       " 4: [(Crossing [10, 2, 11, 1], 'N'),\n",
       "  (Crossing [2, 6, 3, 7], 'W'),\n",
       "  (Crossing [7, 12, 8, 11], 'S')],\n",
       " 6: [(Crossing [2, 6, 3, 7], 'N'),\n",
       "  (Crossing [7, 12, 8, 11], 'E'),\n",
       "  (Crossing [12, 3, 13, 4], 'S')],\n",
       " 7: [(Crossing [2, 6, 3, 7], 'E'),\n",
       "  (Crossing [12, 3, 13, 4], 'E'),\n",
       "  (Crossing [4, 13, 5, 14], 'E'),\n",
       "  (Vertex with [5] incoming and [6, 0] outgoing., 'inc')],\n",
       " 8: [(Crossing [7, 12, 8, 11], 'N'),\n",
       "  (Crossing [12, 3, 13, 4], 'W'),\n",
       "  (Crossing [4, 13, 5, 14], 'W'),\n",
       "  (Vertex with [8, 14] incoming and [9] outgoing., 'inc')],\n",
       " 9: [(Crossing [12, 3, 13, 4], 'N'), (Crossing [4, 13, 5, 14], 'S')]}"
      ]
     },
     "execution_count": 11,
     "metadata": {},
     "output_type": "execute_result"
    }
   ],
   "source": [
    "hc1.reg_to_xvs"
   ]
  },
  {
   "cell_type": "code",
   "execution_count": 7,
   "metadata": {
    "collapsed": true
   },
   "outputs": [
    {
     "data": {
      "text/plain": [
       "\\left(\\begin{array}{rrrrrrrrr}\n",
       "-\\frac{1}{t^{j}} & \\frac{1}{t^{j}} & 0 & 0 & 0 & 0 & 0 & 0 & 0 \\\\\n",
       "-\\frac{1}{t^{i}} & 1 & \\frac{1}{t^{i}} & 0 & 0 & 0 & 0 & 0 & 0 \\\\\n",
       "0 & 0 & 1 & -1 & 1 & 0 & 0 & 0 & 0 \\\\\n",
       "-\\frac{1}{t^{j}} & 0 & 1 & -1 & 0 & \\frac{1}{t^{j}} & 0 & 0 & 0 \\\\\n",
       "0 & 0 & 0 & -1 & t^{i} & 1 & -t^{i} & 0 & 0 \\\\\n",
       "0 & 0 & 0 & 0 & t^{j} & 1 & -1 & 0 & 0 \\\\\n",
       "0 & 0 & 0 & 0 & t^{\\frac{1}{2} \\, i} & 0 & 0 & -t^{\\frac{1}{2} \\, i} + \\frac{1}{t^{\\frac{1}{2} \\, i}} & 0 \\\\\n",
       "-1 & 0 & 0 & 0 & 0 & 1 & 0 & 0 & 0 \\\\\n",
       "0 & 0 & 0 & 0 & 0 & -\\frac{1}{t^{\\frac{1}{2} \\, j}} & 0 & 0 & -t^{\\frac{1}{2} \\, j} + \\frac{1}{t^{\\frac{1}{2} \\, j}}\n",
       "\\end{array}\\right)"
      ]
     },
     "execution_count": 7,
     "metadata": {},
     "output_type": "execute_result"
    }
   ],
   "source": [
    "latex(hc1.get_square_A(delta_segment = 0, left_region_index=0))"
   ]
  },
  {
   "cell_type": "markdown",
   "metadata": {},
   "source": [
    "$$\n",
    "\\left(\\begin{array}{rrrrrrrrr}\n",
    "-\\frac{1}{t^{j}} & \\frac{1}{t^{j}} & 0 & 0 & 0 & 0 & 0 & 0 & 0 \\\\\n",
    "-\\frac{1}{t^{i}} & 1 & \\frac{1}{t^{i}} & 0 & 0 & 0 & 0 & 0 & 0 \\\\\n",
    "0 & 0 & 1 & -1 & 1 & 0 & 0 & 0 & 0 \\\\\n",
    "-\\frac{1}{t^{j}} & 0 & 1 & -1 & 0 & \\frac{1}{t^{j}} & 0 & 0 & 0 \\\\\n",
    "0 & 0 & 0 & -1 & t^{i} & 1 & -t^{i} & 0 & 0 \\\\\n",
    "0 & 0 & 0 & 0 & t^{j} & 1 & -1 & 0 & 0 \\\\\n",
    "0 & 0 & 0 & 0 & t^{\\frac{1}{2} \\, i} & 0 & 0 & -t^{\\frac{1}{2} \\, i} + \\frac{1}{t^{\\frac{1}{2} \\, i}} & 0 \\\\\n",
    "-1 & 0 & 0 & 0 & 0 & 1 & 0 & 0 & 0 \\\\\n",
    "0 & 0 & 0 & 0 & 0 & -\\frac{1}{t^{\\frac{1}{2} \\, j}} & 0 & 0 & -t^{\\frac{1}{2} \\, j} + \\frac{1}{t^{\\frac{1}{2} \\, j}}\n",
    "\\end{array}\\right)\n",
    "$$"
   ]
  },
  {
   "cell_type": "code",
   "execution_count": 5,
   "metadata": {
    "scrolled": true
   },
   "outputs": [
    {
     "data": {
      "text/plain": [
       "((t^(3/2*i) - t^(1/2*i))*t^(i + 2*j) - 2*(t^(3/2*i) - t^(1/2*i))*t^(i + j) + (t^(3/2*i) - t^(1/2*i))*t^i)*t^(-1/2*j + 1/2)/((t - 1)*t^i - t + 1)"
      ]
     },
     "execution_count": 5,
     "metadata": {},
     "output_type": "execute_result"
    }
   ],
   "source": [
    "hopf_hc = MOY([X([(4,j),(1,i),(5,j),(2,i)]),X([(2,i),(5,j),(3,i),(6,j)]),V([(6,j)],[(0,0),(4,j)]), V([(0,0),(3,i)],[(1,i)])])\n",
    "hopf_hc.get_alexander_invariant(delta_segment = 3, left_region_index=0).full_simplify()"
   ]
  },
  {
   "cell_type": "code",
   "execution_count": null,
   "metadata": {},
   "outputs": [],
   "source": []
  },
  {
   "cell_type": "code",
   "execution_count": 49,
   "metadata": {},
   "outputs": [
    {
     "data": {
      "text/plain": [
       "((2*t^(4*i) - 2*t^(7/2*i) - t^(2*i) + 2*t^i - 1)*t^(6*j) - (t^(4*i) - t^(7/2*i) - t^(3*i) + t^(5/2*i))*t^(11/2*j) - (3*t^(4*i) - 3*t^(7/2*i) - 2*t^(2*i) + 3*t^i - 1)*t^(5*j) + (t^(4*i) - t^(7/2*i) - 3*t^(2*i) + 4*t^i - 1)*t^(4*j) - (2*t^(4*i) - 2*t^(7/2*i) - t^(3*i) + t^(5/2*i))*t^(7/2*j) + 3*(t^(2*i) - t^i)*t^(3*j) - 2*(t^(2*i) - t^i)*t^(2*j) + ((3*t^(4*i) - 3*t^(7/2*i) - t^(3*i) + t^(5/2*i))*t^(7/2*j) + t^(2*i) - t^i)*t^j)/(t^(3/2*i + 11/2*j) - t^(3/2*i + 9/2*j))"
      ]
     },
     "execution_count": 49,
     "metadata": {},
     "output_type": "execute_result"
    }
   ],
   "source": [
    "V1 = V([(0,0), (22,j)], [(6,j)])\n",
    "V2 = V([(5,i)],[(0,0),(1,i)])\n",
    "\n",
    "X1 = X([(1,i),(11,j),(2,i),(10,j)])\n",
    "X2 = X([(9,j),(3,i),(10,j),(2,i)])\n",
    "X3 = X([(4,i),(17,j),(5,i),(18,j)])\n",
    "X4 = X([(18,j),(3,i),(19,j),(4,i)])\n",
    "X5 = X([(11,j),(6,j),(12,j),(7,j)])\n",
    "X6 = X([(7,j),(12,j),(8,j),(13,j)])\n",
    "X7 = X([(13,j),(8,j),(14,j),(9,j)])\n",
    "X8 = X([(14,j),(20,j),(15,j),(19,j)])\n",
    "X9 = X([(20,j),(16,j),(21,j),(15,j)])\n",
    "X10 = X([(16,j),(22,j),(17,j),(21,j)])\n",
    "\n",
    "square_hc = MOY([V1, V2, X1, X2, X3, X4, X5, X6, X7, X8, X9, X10])\n",
    "square_hc.get_state_sum(delta_segment = 6, left_region_index=j).simplify()\n",
    "#square_hc.n_crossings, square_hc.n_regions"
   ]
  },
  {
   "cell_type": "code",
   "execution_count": 55,
   "metadata": {},
   "outputs": [
    {
     "data": {
      "text/plain": [
       "(13, 15, 12)"
      ]
     },
     "execution_count": 55,
     "metadata": {},
     "output_type": "execute_result"
    }
   ],
   "source": [
    "square_hc.n_crossings, square_hc.n_regions, square_hc.get_alexander_matrix().rank()"
   ]
  },
  {
   "cell_type": "code",
   "execution_count": 57,
   "metadata": {},
   "outputs": [
    {
     "data": {
      "text/plain": [
       "(5, 7, 5)"
      ]
     },
     "execution_count": 57,
     "metadata": {},
     "output_type": "execute_result"
    }
   ],
   "source": [
    "hopf_hc.n_crossings, hopf_hc.n_regions, hopf_hc.get_alexander_matrix().rank()"
   ]
  },
  {
   "cell_type": "markdown",
   "metadata": {},
   "source": [
    "Let's compare this to planar handcuff."
   ]
  },
  {
   "cell_type": "code",
   "execution_count": 56,
   "metadata": {},
   "outputs": [
    {
     "data": {
      "text/plain": [
       "0"
      ]
     },
     "execution_count": 56,
     "metadata": {},
     "output_type": "execute_result"
    }
   ],
   "source": [
    "planar_hc = MOY([V([(0,i)],[(1,0),(0,i)]),V([(2,j), (1,0)], [(2,j)])])\n",
    "planar_hc.get_state_sum(delta_segment = 0, left_region_index=i)"
   ]
  },
  {
   "cell_type": "markdown",
   "metadata": {},
   "source": [
    "At this point I am not really sure if all handcuffs give zeros, and I have better things to check. I want to look at thetas instead."
   ]
  },
  {
   "cell_type": "markdown",
   "metadata": {},
   "source": [
    "Now the planar theta."
   ]
  },
  {
   "cell_type": "code",
   "execution_count": 50,
   "metadata": {},
   "outputs": [
    {
     "data": {
      "text/plain": [
       "(t^(i + j) - 1)*t^(-j + 1/2)/(t - 1)"
      ]
     },
     "execution_count": 50,
     "metadata": {},
     "output_type": "execute_result"
    }
   ],
   "source": [
    "planar_theta = MOY([V([(2,i+j)], [(0,i), (1,j)]), V([(1,j), (0,i)],[(2,i+j)]),])\n",
    "planar_theta.get_alexander_invariant(delta_segment = 0, left_region_index=0).full_simplify()"
   ]
  },
  {
   "cell_type": "markdown",
   "metadata": {},
   "source": [
    "$$\n",
    "\\frac{{\\left(t^{i + j} - 1\\right)} t^{-j + \\frac{1}{2}}}{t - 1}\n",
    "$$"
   ]
  },
  {
   "cell_type": "code",
   "execution_count": 4,
   "metadata": {},
   "outputs": [
    {
     "data": {
      "text/plain": [
       "(t + 1)/t"
      ]
     },
     "execution_count": 4,
     "metadata": {},
     "output_type": "execute_result"
    }
   ],
   "source": [
    "planar_theta = MOY([V([(2,2)], [(0,1), (1,2)]), V([(1,2), (0,1)],[(2,2)]),])\n",
    "planar_theta.get_alexander_invariant(delta_segment = 0, left_region_index=0).full_simplify()"
   ]
  },
  {
   "cell_type": "code",
   "execution_count": null,
   "metadata": {},
   "outputs": [],
   "source": []
  }
 ],
 "metadata": {
  "kernelspec": {
   "display_name": "SageMath 9.2",
   "language": "sage",
   "name": "sagemath"
  },
  "language_info": {
   "codemirror_mode": {
    "name": "ipython",
    "version": 3
   },
   "file_extension": ".py",
   "mimetype": "text/x-python",
   "name": "python",
   "nbconvert_exporter": "python",
   "pygments_lexer": "ipython3",
   "version": "3.8.5"
  }
 },
 "nbformat": 4,
 "nbformat_minor": 4
}
