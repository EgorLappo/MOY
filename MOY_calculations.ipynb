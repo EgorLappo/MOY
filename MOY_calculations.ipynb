{
 "cells": [
  {
   "cell_type": "code",
   "execution_count": 1,
   "metadata": {},
   "outputs": [],
   "source": [
    "from moy import *"
   ]
  },
  {
   "cell_type": "markdown",
   "metadata": {},
   "source": [
    "First we will consider a couple of handcuff spatial graphs, two of which we know to be \"slice\" and one not slice. \n",
    "\n",
    "Begin with:\n",
    "![](imgs/hcuff1.png)"
   ]
  },
  {
   "cell_type": "code",
   "execution_count": null,
   "metadata": {},
   "outputs": [],
   "source": [
    "i = var('i')\n",
    "j = var('j')\n",
    "\n",
    "# crossings\n",
    "X1 = X([\n",
    "    (1,i),\n",
    "    (11,j),\n",
    "    (2,i),\n",
    "    (10,j)\n",
    "])\n",
    "\n",
    "X2 = X([\n",
    "    (11,j),\n",
    "    (3,i),\n",
    "    (12,j),\n",
    "    (2,i)\n",
    "])\n",
    "\n",
    "X3 = X([\n",
    "    (3,i),\n",
    "    (7,0),\n",
    "    (4,i),\n",
    "    (8,0)\n",
    "])\n",
    "\n",
    "X4 = X([\n",
    "    (8,0),\n",
    "    (13,j),\n",
    "    (9,0),\n",
    "    (12,j)\n",
    "])\n",
    "\n",
    "X5 = X([\n",
    "    (13,j),\n",
    "    (4,i),\n",
    "    (14,j),\n",
    "    (5,i)\n",
    "])\n",
    "\n",
    "X6 = X([\n",
    "    (5,i),\n",
    "    (14,j),\n",
    "    (6,i),\n",
    "    (15,j)\n",
    "])\n",
    "\n",
    "#vertices\n",
    "V1 = V([(6,i)], [(7,0), (1,i)])\n",
    "V2 = V([(9,0)], [(15,j), (10,j)])"
   ]
  }
 ],
 "metadata": {
  "kernelspec": {
   "display_name": "SageMath 9.2",
   "language": "sage",
   "name": "sagemath"
  },
  "language_info": {
   "codemirror_mode": {
    "name": "ipython",
    "version": 3
   },
   "file_extension": ".py",
   "mimetype": "text/x-python",
   "name": "python",
   "nbconvert_exporter": "python",
   "pygments_lexer": "ipython3",
   "version": "3.8.5"
  }
 },
 "nbformat": 4,
 "nbformat_minor": 4
}
